{
 "cells": [
  {
   "cell_type": "markdown",
   "metadata": {},
   "source": [
    "# Cirq Simulation"
   ]
  },
  {
   "cell_type": "markdown",
   "metadata": {},
   "source": [
    "A Simulator can calculate the results of circuits (up to 20 qubits). It can be initialized with cirq.Simulator()"
   ]
  },
  {
   "cell_type": "code",
   "execution_count": 22,
   "metadata": {},
   "outputs": [],
   "source": [
    "import cirq\n",
    "import sympy\n",
    "(q1 , q2) = cirq.GridQubit.rect(1 ,2)\n",
    "bell_circuit = cirq.Circuit(cirq.H(q1),cirq.CNOT(q1,q2))\n",
    "ZZ = cirq.Z(q1)*cirq.Z(q2)"
   ]
  },
  {
   "cell_type": "markdown",
   "metadata": {},
   "source": [
    "Simulate the circuit"
   ]
  },
  {
   "cell_type": "code",
   "execution_count": 30,
   "metadata": {},
   "outputs": [
    {
     "output_type": "stream",
     "name": "stdout",
     "text": "Simulate the circuit:\nmeasurements: (no measurements)\noutput vector: 0.707|00⟩ + 0.707|11⟩\n"
    }
   ],
   "source": [
    "print('Simulate the circuit:')\n",
    "results = cirq.Simulator().simulate(bell_circuit)\n",
    "print(results)"
   ]
  },
  {
   "cell_type": "markdown",
   "metadata": {},
   "source": [
    "For sampling, add a measurement at the end"
   ]
  },
  {
   "cell_type": "code",
   "execution_count": 32,
   "metadata": {},
   "outputs": [
    {
     "output_type": "stream",
     "name": "stdout",
     "text": "Sample the circuit:\n"
    }
   ],
   "source": [
    "bell_circuit.append(cirq.measure(q1, q2, key='result'))\n",
    "print('Sample the circuit:')"
   ]
  },
  {
   "cell_type": "code",
   "execution_count": 41,
   "metadata": {},
   "outputs": [
    {
     "output_type": "stream",
     "name": "stdout",
     "text": "measurements: (no measurements)\noutput vector: 0.878|0⟩ - 0.479j|1⟩\n"
    }
   ],
   "source": [
    "theta = sympy.Symbol('theta')\n",
    "c = cirq . Circuit ( cirq . Rx ( theta ). on ( q1 ))\n",
    "resolver = cirq . ParamResolver ({ theta : 1})\n",
    "results = cirq . Simulator () . simulate (c , resolver )\n",
    "print(results)"
   ]
  }
 ],
 "metadata": {
  "language_info": {
   "codemirror_mode": {
    "name": "ipython",
    "version": 3
   },
   "file_extension": ".py",
   "mimetype": "text/x-python",
   "name": "python",
   "nbconvert_exporter": "python",
   "pygments_lexer": "ipython3",
   "version": "3.7.7-final"
  },
  "orig_nbformat": 2,
  "kernelspec": {
   "name": "python37764bitcccd548c54374cd78ed018715ded1f5c",
   "display_name": "Python 3.7.7 64-bit"
  }
 },
 "nbformat": 4,
 "nbformat_minor": 2
}